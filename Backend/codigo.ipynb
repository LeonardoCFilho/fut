{
 "cells": [
  {
   "cell_type": "code",
   "execution_count": null,
   "metadata": {},
   "outputs": [
    {
     "data": {
      "text/plain": [
       "{'erro': [\"  Error @ Patient.contact[0].relationship[0].coding[0].code (line 42, col8): Unknown code 'k' in the CodeSystem 'http://terminology.hl7.org/CodeSystem/v2-0131' version '2.0.0'\",\n",
       "  \"  Error @ Patient.address[0] (line 9, col24): The JSON property 'state' has no quotes around the value of the property 'XY'\",\n",
       "  \"  Error @ Patient.birthDate (line 18, col27): Not a valid date ('5-06-15' doesn't meet format requirements for date)\",\n",
       "  '  Error @ Patient.contact[0].telecom[0] (line 38, col36): There is an extra comma at the end of the Object in the JSON',\n",
       "  \"  Error @ Patient.telecom[0] (line 104, col37): The JSON property 'value' is a duplicate and will be ignored\",\n",
       "  '  Error @ Patient.telecom[0] (line 108, col40): There is an extra comma at the end of the Object in the JSON',\n",
       "  \"  Error @ Patient (line 14, col24): Unrecognized property 'abracadabra'\",\n",
       "  \"  Error @ Patient (line 15, col28): Unrecognized property 'email'\"],\n",
       " 'warning': [\"  Warning @ Patient.contact[0].relationship[0] (line 42, col8): None of the codings provided are in the value set 'Patient Contact Relationship ' (http://hl7.org/fhir/ValueSet/patient-contactrelationship|4.0.1), and a coding should come from this value set unless it has no suitable code (note that the validator cannot judge what is suitable) (codes = http://terminology.hl7.org/CodeSystem/v2-0131#k)\",\n",
       "  \"  Warning @ Patient (line 1, col2): Constraint failed: dom-6: 'A resource should have narrative for robust management' (defined in http://hl7.org/fhir/StructureDefinition/DomainResource) (Best Practice Recommendation)\"],\n",
       " 'note': [],\n",
       " 'fatal': [],\n",
       " 'else': []}"
      ]
     },
     "execution_count": 2,
     "metadata": {},
     "output_type": "execute_result"
    }
   ],
   "source": [
    "import subprocess\n",
    "\n",
    "caminho_do_arquivo_fhir_que_voce_quer_validar = \"zzrandom_com_erros.json\"\n",
    "\n",
    "# O validador não está nativamente contido nessa pasta, baixe-o aqui: https://github.com/hapifhir/org.hl7.fhir.core/releases/latest/download/validator_cli.jar \n",
    "caminho_do_jar_do_validador_fhir_que_voce_quer_usar = \"validator_cli.jar\" # se não for a 4.0.1 não vai funcionar\n",
    "\n",
    "# função que vai validar\n",
    "def validar_fhir(arquivo_fhir: str, jar_path: str = caminho_do_jar_do_validador_fhir_que_voce_quer_usar):\n",
    "    \"\"\"Executa a validação de um arquivo FHIR usando o validator_cli.jar da HL7 vers\"\"\"\n",
    "    try:\n",
    "        # comando que será executado no subprocess\n",
    "        comando = [\"java\", \"-jar\", jar_path, arquivo_fhir, \"-version\", \"4.0.1\"]\n",
    "\n",
    "        # resultado da execução so subprocess\n",
    "        resultado = subprocess.run(comando, capture_output=True, text=True)\n",
    "\n",
    "        return resultado\n",
    "    except Exception as e:\n",
    "        return None\n",
    "\n",
    "# Teste com um arquivo JSON/XML\n",
    "resultado = validar_fhir(caminho_do_arquivo_fhir_que_voce_quer_validar)\n",
    "\n",
    "# Abaixo, a saída da função validar_fhir é formatada para, dentro do dicionário dicio, capturar os campos: warning, error, note, fatal, dentre outros\n",
    "dicio = None\n",
    "if resultado:\n",
    "    formatado = resultado.stdout.split(\"\\n\")\n",
    "    dicio = {'erro': [], 'warning': [], 'note': [], 'fatal': [], 'else': []}\n",
    "    for linha in formatado:\n",
    "        if 'warning @' in linha.lower():\n",
    "            dicio['warning'].append(linha)\n",
    "        elif 'error @' in linha.lower():\n",
    "            dicio['erro'].append(linha)\n",
    "        elif 'note @' in linha.lower():\n",
    "            dicio['note'].append(linha)\n",
    "        elif 'fatal @' in linha.lower():\n",
    "            dicio['fatal'].append(linha)\n",
    "        elif '@' in linha:\n",
    "            dicio['else'].append(linha)\n",
    "\n",
    "dicio"
   ]
  }
 ],
 "metadata": {
  "kernelspec": {
   "display_name": "Python (meu_env)",
   "language": "python",
   "name": "nome_do_kernel"
  },
  "language_info": {
   "codemirror_mode": {
    "name": "ipython",
    "version": 3
   },
   "file_extension": ".py",
   "mimetype": "text/x-python",
   "name": "python",
   "nbconvert_exporter": "python",
   "pygments_lexer": "ipython3",
   "version": "3.11.8"
  }
 },
 "nbformat": 4,
 "nbformat_minor": 2
}
